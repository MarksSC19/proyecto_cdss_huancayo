{
 "cells": [
  {
   "cell_type": "markdown",
   "metadata": {},
   "source": [
    "# 3. Entrenamiento y Evaluación de Modelos\n",
    "\n",
    "**Objetivo:** Entrenar y comparar múltiples algoritmos de clasificación para seleccionar el modelo con el mejor rendimiento para nuestro problema de diagnóstico diferencial. Utilizaremos validación cruzada rigurosa y manejaremos el desbalance de clases identificado en el EDA."
   ]
  },
  {
   "cell_type": "markdown",
   "metadata": {},
   "source": [
    "## 3.1. Carga de Datos Procesados y Librerías"
   ]
  },
  {
   "cell_type": "code",
   "execution_count": 4,
   "metadata": {},
   "outputs": [
    {
     "name": "stdout",
     "output_type": "stream",
     "text": [
      "Directorios listos en: ../reports/figures/models y ../reports/metrics\n",
      "Contadores inicializados.\n",
      "Datos cargados:\n",
      "X_train: (16000, 54)\n",
      "y_train: (16000,)\n",
      "X_test: (4000, 54)\n",
      "y_test: (4000,)\n"
     ]
    }
   ],
   "source": [
    "import pandas as pd\n",
    "import numpy as np\n",
    "import matplotlib.pyplot as plt\n",
    "import seaborn as sns\n",
    "import joblib\n",
    "import os\n",
    "\n",
    "# --- INICIO: Celda de configuración para guardado --- \n",
    "# 1. Crear carpetas para los reportes\n",
    "FIGS_PATH = \"../reports/figures/models\"\n",
    "METRICS_PATH = \"../reports/metrics\"\n",
    "os.makedirs(FIGS_PATH, exist_ok=True)\n",
    "os.makedirs(METRICS_PATH, exist_ok=True)\n",
    "\n",
    "# 2. Inicializar contadores\n",
    "nuevos_graficos = 0\n",
    "graficos_omitidos = 0\n",
    "nuevas_tablas = 0\n",
    "tablas_omitidas = 0\n",
    "\n",
    "print(f\"Directorios listos en: {FIGS_PATH} y {METRICS_PATH}\")\n",
    "print(\"Contadores inicializados.\")\n",
    "\n",
    "# Librerías de Modelado\n",
    "from sklearn.linear_model import LogisticRegression\n",
    "from sklearn.ensemble import RandomForestClassifier, VotingClassifier\n",
    "from sklearn.svm import SVC\n",
    "import xgboost as xgb\n",
    "\n",
    "# Manejo de Desbalance\n",
    "from imblearn.pipeline import Pipeline as ImbPipeline\n",
    "from imblearn.over_sampling import SMOTE\n",
    "\n",
    "# Evaluación\n",
    "from sklearn.model_selection import StratifiedKFold, cross_validate\n",
    "from sklearn.metrics import classification_report, confusion_matrix, balanced_accuracy_score, cohen_kappa_score\n",
    "\n",
    "# Rutas\n",
    "PROCESSED_DATA_DIR = \"../data/processed/\"\n",
    "MODELS_DIR = \"../models/\"\n",
    "\n",
    "# Cargar datos\n",
    "X_train = pd.read_csv(os.path.join(PROCESSED_DATA_DIR, 'X_train.csv'))\n",
    "X_test = pd.read_csv(os.path.join(PROCESSED_DATA_DIR, 'X_test.csv'))\n",
    "y_train = pd.read_csv(os.path.join(PROCESSED_DATA_DIR, 'y_train.csv')).values.ravel()\n",
    "y_test = pd.read_csv(os.path.join(PROCESSED_DATA_DIR, 'y_test.csv')).values.ravel()\n",
    "\n",
    "print('Datos cargados:')\n",
    "print(f'X_train: {X_train.shape}')\n",
    "print(f'y_train: {y_train.shape}')\n",
    "print(f'X_test: {X_test.shape}')\n",
    "print(f'y_test: {y_test.shape}')"
   ]
  },
  {
   "cell_type": "markdown",
   "metadata": {},
   "source": [
    "## 3.2. Definición de Modelos y Pipeline con SMOTE\n",
    "\n",
    "Para cada clasificador, crearemos un pipeline de `imbalanced-learn`. Este pipeline primero aplicará SMOTE para sobremuestrear las clases minoritarias y luego entrenará el clasificador. Esto se hace de forma segura dentro de cada pliegue de la validación cruzada para evitar la fuga de datos."
   ]
  },
  {
   "cell_type": "code",
   "execution_count": 5,
   "metadata": {},
   "outputs": [
    {
     "name": "stdout",
     "output_type": "stream",
     "text": [
      "Pipelines de modelos creados:\n",
      "['Logistic Regression', 'Random Forest', 'XGBoost', 'SVM', 'Ensemble (Voting)']\n"
     ]
    },
    {
     "name": "stderr",
     "output_type": "stream",
     "text": [
      "c:\\Users\\marks\\Documents\\PROGRAMA _TESIS\\proyecto_cdss_huancayo\\venv\\Lib\\site-packages\\xgboost\\sklearn.py:1395: UserWarning: `use_label_encoder` is deprecated in 1.7.0.\n",
      "  warnings.warn(\"`use_label_encoder` is deprecated in 1.7.0.\")\n"
     ]
    }
   ],
   "source": [
    "# Definir los modelos base\n",
    "models = {\n",
    "    'Logistic Regression': LogisticRegression(multi_class='multinomial', solver='lbfgs', max_iter=1000, random_state=42),\n",
    "    'Random Forest': RandomForestClassifier(random_state=42),\n",
    "    'XGBoost': xgb.XGBClassifier(use_label_encoder=False, eval_metric='mlogloss', random_state=42),\n",
    "    'SVM': SVC(probability=True, random_state=42) # probability=True es necesario para VotingClassifier y AUC\n",
    "}\n",
    "\n",
    "# Crear un pipeline con SMOTE para cada modelo\n",
    "pipelines = {\n",
    "    name: ImbPipeline(steps=[('smote', SMOTE(random_state=42)), ('classifier', model)]) \n",
    "    for name, model in models.items()\n",
    "}\n",
    "\n",
    "# Añadir un modelo de ensamble (Voting Classifier)\n",
    "clf1 = models['Logistic Regression']\n",
    "clf2 = models['Random Forest']\n",
    "clf3 = models['XGBoost']\n",
    "eclf1 = VotingClassifier(estimators=[('lr', clf1), ('rf', clf2), ('xgb', clf3)], voting='soft')\n",
    "pipelines['Ensemble (Voting)'] = ImbPipeline(steps=[('smote', SMOTE(random_state=42)), ('classifier', eclf1)])\n",
    "\n",
    "print(\"Pipelines de modelos creados:\")\n",
    "print(list(pipelines.keys()))"
   ]
  },
  {
   "cell_type": "markdown",
   "metadata": {},
   "source": [
    "## 3.3. Evaluación con Validación Cruzada\n",
    "\n",
    "Utilizaremos `StratifiedKFold` con 10 pliegues para evaluar el rendimiento de cada pipeline. Mediremos múltiples métricas para obtener una visión completa del rendimiento de cada modelo."
   ]
  },
  {
   "cell_type": "code",
   "execution_count": 7,
   "metadata": {},
   "outputs": [
    {
     "name": "stdout",
     "output_type": "stream",
     "text": [
      "Evaluando Logistic Regression...\n",
      "Logistic Regression - Balanced Accuracy: 0.9997 +/- 0.0003\n",
      "\n",
      "Evaluación completada.\n",
      "Evaluando Random Forest...\n",
      "Random Forest - Balanced Accuracy: 0.9999 +/- 0.0002\n",
      "\n",
      "Evaluación completada.\n",
      "Evaluando XGBoost...\n"
     ]
    },
    {
     "name": "stderr",
     "output_type": "stream",
     "text": [
      "c:\\Users\\marks\\Documents\\PROGRAMA _TESIS\\proyecto_cdss_huancayo\\venv\\Lib\\site-packages\\xgboost\\sklearn.py:1395: UserWarning: `use_label_encoder` is deprecated in 1.7.0.\n",
      "  warnings.warn(\"`use_label_encoder` is deprecated in 1.7.0.\")\n"
     ]
    },
    {
     "name": "stdout",
     "output_type": "stream",
     "text": [
      "XGBoost - Balanced Accuracy: 0.9998 +/- 0.0003\n",
      "\n",
      "Evaluación completada.\n",
      "Evaluando SVM...\n",
      "SVM - Balanced Accuracy: 0.9997 +/- 0.0004\n",
      "\n",
      "Evaluación completada.\n",
      "Evaluando Ensemble (Voting)...\n"
     ]
    },
    {
     "name": "stderr",
     "output_type": "stream",
     "text": [
      "c:\\Users\\marks\\Documents\\PROGRAMA _TESIS\\proyecto_cdss_huancayo\\venv\\Lib\\site-packages\\xgboost\\sklearn.py:1395: UserWarning: `use_label_encoder` is deprecated in 1.7.0.\n",
      "  warnings.warn(\"`use_label_encoder` is deprecated in 1.7.0.\")\n"
     ]
    },
    {
     "name": "stdout",
     "output_type": "stream",
     "text": [
      "Ensemble (Voting) - Balanced Accuracy: 0.9999 +/- 0.0003\n",
      "\n",
      "Evaluación completada.\n"
     ]
    }
   ],
   "source": [
    "# Configurar la validación cruzada\n",
    "kfold = StratifiedKFold(n_splits=10, shuffle=True, random_state=42)\n",
    "\n",
    "# Métricas a evaluar\n",
    "scoring_metrics = ['accuracy', 'balanced_accuracy', 'f1_weighted', 'precision_weighted', 'recall_weighted', 'roc_auc_ovr']\n",
    "\n",
    "results = {}\n",
    "\n",
    "for name, pipeline in pipelines.items():\n",
    "    print(f'Evaluando {name}...')\n",
    "    # Realizar validación cruzada\n",
    "    cv_results = cross_validate(pipeline, X_train, y_train, cv=kfold, scoring=scoring_metrics, n_jobs=-1)\n",
    "    results[name] = {metric: cv_results[f'test_{metric}'] for metric in scoring_metrics}\n",
    "    print(f\"{name} - Balanced Accuracy: {np.mean(cv_results['test_balanced_accuracy']):.4f} +/- {np.std(cv_results['test_balanced_accuracy']):.4f}\")\n",
    "    print(\"\\nEvaluación completada.\")"
   ]
  },
  {
   "cell_type": "markdown",
   "metadata": {},
   "source": [
    "## 3.4. Visualización y Guardado de Resultados de CV"
   ]
  },
  {
   "cell_type": "code",
   "execution_count": 8,
   "metadata": {},
   "outputs": [
    {
     "name": "stdout",
     "output_type": "stream",
     "text": [
      "⏭️ Archivo ../reports/metrics\\cv_results_summary.csv ya existe, omitiendo...\n"
     ]
    },
    {
     "data": {
      "text/html": [
       "<div>\n",
       "<style scoped>\n",
       "    .dataframe tbody tr th:only-of-type {\n",
       "        vertical-align: middle;\n",
       "    }\n",
       "\n",
       "    .dataframe tbody tr th {\n",
       "        vertical-align: top;\n",
       "    }\n",
       "\n",
       "    .dataframe thead th {\n",
       "        text-align: right;\n",
       "    }\n",
       "</style>\n",
       "<table border=\"1\" class=\"dataframe\">\n",
       "  <thead>\n",
       "    <tr style=\"text-align: right;\">\n",
       "      <th></th>\n",
       "      <th>mean_accuracy</th>\n",
       "      <th>mean_balanced_accuracy</th>\n",
       "      <th>mean_f1_weighted</th>\n",
       "      <th>mean_precision_weighted</th>\n",
       "      <th>mean_recall_weighted</th>\n",
       "      <th>mean_roc_auc_ovr</th>\n",
       "    </tr>\n",
       "  </thead>\n",
       "  <tbody>\n",
       "    <tr>\n",
       "      <th>Random Forest</th>\n",
       "      <td>0.999938</td>\n",
       "      <td>0.999935</td>\n",
       "      <td>0.999937</td>\n",
       "      <td>0.999938</td>\n",
       "      <td>0.999938</td>\n",
       "      <td>1.000000</td>\n",
       "    </tr>\n",
       "    <tr>\n",
       "      <th>Ensemble (Voting)</th>\n",
       "      <td>0.999875</td>\n",
       "      <td>0.999870</td>\n",
       "      <td>0.999875</td>\n",
       "      <td>0.999875</td>\n",
       "      <td>0.999875</td>\n",
       "      <td>1.000000</td>\n",
       "    </tr>\n",
       "    <tr>\n",
       "      <th>XGBoost</th>\n",
       "      <td>0.999813</td>\n",
       "      <td>0.999814</td>\n",
       "      <td>0.999812</td>\n",
       "      <td>0.999813</td>\n",
       "      <td>0.999813</td>\n",
       "      <td>0.999999</td>\n",
       "    </tr>\n",
       "    <tr>\n",
       "      <th>Logistic Regression</th>\n",
       "      <td>0.999750</td>\n",
       "      <td>0.999740</td>\n",
       "      <td>0.999750</td>\n",
       "      <td>0.999751</td>\n",
       "      <td>0.999750</td>\n",
       "      <td>1.000000</td>\n",
       "    </tr>\n",
       "    <tr>\n",
       "      <th>SVM</th>\n",
       "      <td>0.999687</td>\n",
       "      <td>0.999674</td>\n",
       "      <td>0.999687</td>\n",
       "      <td>0.999688</td>\n",
       "      <td>0.999687</td>\n",
       "      <td>1.000000</td>\n",
       "    </tr>\n",
       "  </tbody>\n",
       "</table>\n",
       "</div>"
      ],
      "text/plain": [
       "                     mean_accuracy  mean_balanced_accuracy  mean_f1_weighted  \\\n",
       "Random Forest             0.999938                0.999935          0.999937   \n",
       "Ensemble (Voting)         0.999875                0.999870          0.999875   \n",
       "XGBoost                   0.999813                0.999814          0.999812   \n",
       "Logistic Regression       0.999750                0.999740          0.999750   \n",
       "SVM                       0.999687                0.999674          0.999687   \n",
       "\n",
       "                     mean_precision_weighted  mean_recall_weighted  \\\n",
       "Random Forest                       0.999938              0.999938   \n",
       "Ensemble (Voting)                   0.999875              0.999875   \n",
       "XGBoost                             0.999813              0.999813   \n",
       "Logistic Regression                 0.999751              0.999750   \n",
       "SVM                                 0.999688              0.999687   \n",
       "\n",
       "                     mean_roc_auc_ovr  \n",
       "Random Forest                1.000000  \n",
       "Ensemble (Voting)            1.000000  \n",
       "XGBoost                      0.999999  \n",
       "Logistic Regression          1.000000  \n",
       "SVM                          1.000000  "
      ]
     },
     "metadata": {},
     "output_type": "display_data"
    }
   ],
   "source": [
    "# Crear y guardar un DataFrame resumen con las medias (solo métricas disponibles)\n",
    "summary_data = {}\n",
    "for name, res in results.items():\n",
    "    summary_data[name] = {}\n",
    "    for metric in scoring_metrics:\n",
    "        if metric in res:\n",
    "            summary_data[name][f'mean_{metric}'] = np.mean(res[metric])\n",
    "\n",
    "results_df = pd.DataFrame(summary_data).T\n",
    "\n",
    "# Guardar tabla resumen\n",
    "path_tabla_summary = os.path.join(METRICS_PATH, 'cv_results_summary.csv')\n",
    "if not os.path.exists(path_tabla_summary):\n",
    "    if 'mean_balanced_accuracy' in results_df.columns:\n",
    "        results_df.sort_values(by='mean_balanced_accuracy', ascending=False).to_csv(path_tabla_summary)\n",
    "    else:\n",
    "        results_df.to_csv(path_tabla_summary)\n",
    "    print(f'✅ Tabla de resumen guardada en {path_tabla_summary}')\n",
    "    nuevas_tablas += 1\n",
    "else:\n",
    "    print(f'⏭️ Archivo {path_tabla_summary} ya existe, omitiendo...')\n",
    "    tablas_omitidas += 1\n",
    "\n",
    "# Mostrar resumen ordenado si es posible\n",
    "if 'mean_balanced_accuracy' in results_df.columns:\n",
    "    display(results_df.sort_values(by='mean_balanced_accuracy', ascending=False))\n",
    "else:\n",
    "    print(\"⚠️ La métrica 'mean_balanced_accuracy' no está disponible en los resultados.\")\n",
    "    display(results_df)"
   ]
  },
  {
   "cell_type": "code",
   "execution_count": 6,
   "metadata": {},
   "outputs": [
    {
     "name": "stdout",
     "output_type": "stream",
     "text": [
      "⏭️ Archivo ../reports/figures/models\\model_comparison_boxplot.png ya existe, omitiendo...\n"
     ]
    },
    {
     "data": {
      "image/png": "[encoded data removed]",
      "text/plain": [
       "<Figure size 1200x800 with 1 Axes>"
      ]
     },
     "metadata": {},
     "output_type": "display_data"
    }
   ],
   "source": [
    "balanced_accuracy_scores = {name: res['balanced_accuracy'] for name, res in results.items()}\n",
    "plt.figure(figsize=(12, 8))\n",
    "sns.boxplot(data=pd.DataFrame(balanced_accuracy_scores), orient='h')\n",
    "plt.title('Comparación de Modelos (Balanced Accuracy en Validación Cruzada)')\n",
    "plt.xlabel('Balanced Accuracy')\n",
    "\n",
    "path_figura = os.path.join(FIGS_PATH, 'model_comparison_boxplot.png')\n",
    "if not os.path.exists(path_figura):\n",
    "    plt.savefig(path_figura, dpi=300, bbox_inches='tight')\n",
    "    print(f'✅ Gráfico guardado en {path_figura}')\n",
    "    nuevos_graficos += 1\n",
    "else:\n",
    "    print(f'⏭️ Archivo {path_figura} ya existe, omitiendo...')\n",
    "    graficos_omitidos += 1\n",
    "plt.show()"
   ]
  },
  {
   "cell_type": "markdown",
   "metadata": {},
   "source": [
    "## 3.5. Selección y Entrenamiento del Modelo Final"
   ]
  },
  {
   "cell_type": "code",
   "execution_count": 9,
   "metadata": {},
   "outputs": [
    {
     "name": "stdout",
     "output_type": "stream",
     "text": [
      "Modelo final (XGBoost con SMOTE) entrenado con todos los datos de entrenamiento.\n"
     ]
    }
   ],
   "source": [
    "final_model_pipeline = pipelines['XGBoost']\n",
    "final_model_pipeline.fit(X_train, y_train)\n",
    "print(\"Modelo final (XGBoost con SMOTE) entrenado con todos los datos de entrenamiento.\")"
   ]
  },
  {
   "cell_type": "markdown",
   "metadata": {},
   "source": [
    "## 3.6. Evaluación Final en el Conjunto de Prueba (Test Set)"
   ]
  },
  {
   "cell_type": "code",
   "execution_count": 10,
   "metadata": {},
   "outputs": [
    {
     "name": "stdout",
     "output_type": "stream",
     "text": [
      "⏭️ Archivo ../reports/metrics\\classification_report_test.csv ya existe, omitiendo...\n",
      "              precision    recall  f1-score   support\n",
      "\n",
      "         DM2       1.00      1.00      1.00       960\n",
      "         EDA       1.00      1.00      1.00       720\n",
      "         HTA       1.00      1.00      1.00      1120\n",
      "         IRA       1.00      1.00      1.00      1200\n",
      "\n",
      "    accuracy                           1.00      4000\n",
      "   macro avg       1.00      1.00      1.00      4000\n",
      "weighted avg       1.00      1.00      1.00      4000\n",
      "\n"
     ]
    }
   ],
   "source": [
    "y_pred = final_model_pipeline.predict(X_test)\n",
    "target_names = ['DM2', 'EDA', 'HTA', 'IRA']\n",
    "\n",
    "# Generar reporte como diccionario y guardarlo\n",
    "report_dict = classification_report(y_test, y_pred, target_names=target_names, output_dict=True)\n",
    "report_df = pd.DataFrame(report_dict).transpose()\n",
    "path_tabla = os.path.join(METRICS_PATH, 'classification_report_test.csv')\n",
    "if not os.path.exists(path_tabla):\n",
    "    report_df.to_csv(path_tabla, index=True)\n",
    "    print(f'✅ Tabla de reporte de clasificación guardada en {path_tabla}')\n",
    "    nuevas_tablas += 1\n",
    "else:\n",
    "    print(f'⏭️ Archivo {path_tabla} ya existe, omitiendo...')\n",
    "    tablas_omitidas += 1\n",
    "\n",
    "# Imprimir el reporte para visualización\n",
    "print(classification_report(y_test, y_pred, target_names=target_names))"
   ]
  },
  {
   "cell_type": "code",
   "execution_count": 11,
   "metadata": {},
   "outputs": [
    {
     "name": "stdout",
     "output_type": "stream",
     "text": [
      "⏭️ Archivo ../reports/metrics\\confusion_matrix_test.csv ya existe, omitiendo...\n",
      "⏭️ Archivo ../reports/figures/models\\confusion_matrix_test.png ya existe, omitiendo...\n"
     ]
    },
    {
     "data": {
      "image/png": "[encoded data removed]",
      "text/plain": [
       "<Figure size 1000x800 with 2 Axes>"
      ]
     },
     "metadata": {},
     "output_type": "display_data"
    }
   ],
   "source": [
    "cm = confusion_matrix(y_test, y_pred)\n",
    "cm_df = pd.DataFrame(cm, index=['DM2', 'EDA', 'HTA', 'IRA'], columns=['DM2', 'EDA', 'HTA', 'IRA'])\n",
    "\n",
    "# Guardar la tabla de la matriz de confusión\n",
    "path_tabla = os.path.join(METRICS_PATH, 'confusion_matrix_test.csv')\n",
    "if not os.path.exists(path_tabla):\n",
    "    cm_df.to_csv(path_tabla)\n",
    "    print(f'✅ Tabla de matriz de confusión guardada en {path_tabla}')\n",
    "    nuevas_tablas += 1\n",
    "else:\n",
    "    print(f'⏭️ Archivo {path_tabla} ya existe, omitiendo...')\n",
    "    tablas_omitidas += 1\n",
    "\n",
    "# Visualizar el heatmap\n",
    "plt.figure(figsize=(10, 8))\n",
    "sns.heatmap(cm_df, annot=True, fmt='d', cmap='Blues')\n",
    "plt.title('Matriz de Confusión en el Conjunto de Prueba')\n",
    "plt.ylabel('Clase Verdadera')\n",
    "plt.xlabel('Clase Predicha')\n",
    "\n",
    "# Guardar la figura del heatmap\n",
    "path_figura = os.path.join(FIGS_PATH, 'confusion_matrix_test.png')\n",
    "if not os.path.exists(path_figura):\n",
    "    plt.savefig(path_figura, dpi=300, bbox_inches='tight')\n",
    "    print(f'✅ Gráfico de matriz de confusión guardado en {path_figura}')\n",
    "    nuevos_graficos += 1\n",
    "else:\n",
    "    print(f'⏭️ Archivo {path_figura} ya existe, omitiendo...')\n",
    "    graficos_omitidos += 1\n",
    "\n",
    "plt.show()"
   ]
  },
  {
   "cell_type": "markdown",
   "metadata": {},
   "source": [
    "## 3.7. Guardado del Modelo Final"
   ]
  },
  {
   "cell_type": "code",
   "execution_count": 12,
   "metadata": {},
   "outputs": [
    {
     "name": "stdout",
     "output_type": "stream",
     "text": [
      "Modelo final guardado en ../models/final_model.pkl\n"
     ]
    }
   ],
   "source": [
    "os.makedirs(MODELS_DIR, exist_ok=True)\n",
    "path_modelo = os.path.join(MODELS_DIR, 'final_model.pkl')\n",
    "joblib.dump(final_model_pipeline, path_modelo)\n",
    "print(f\"Modelo final guardado en {path_modelo}\")"
   ]
  },
  {
   "cell_type": "code",
   "execution_count": 13,
   "metadata": {},
   "outputs": [
    {
     "name": "stdout",
     "output_type": "stream",
     "text": [
      "\n",
      "**************************************************\n",
      "PROCESO DE GUARDADO COMPLETADO EN 03_Modeling.ipynb\n",
      "**************************************************\n",
      "✅ Gráficos nuevos guardados: 0\n",
      "⏭️ Gráficos omitidos (ya existían): 1\n",
      "✅ Tablas nuevas guardadas: 0\n",
      "⏭️ Tablas omitidas (ya existían): 3\n",
      "**************************************************\n"
     ]
    }
   ],
   "source": [
    "# --- Resumen Final del Proceso ---\n",
    "print(\"\\n\" + \"*\" * 50)\n",
    "print(\"PROCESO DE GUARDADO COMPLETADO EN 03_Modeling.ipynb\")\n",
    "print(\"*\" * 50)\n",
    "print(f\"✅ Gráficos nuevos guardados: {nuevos_graficos}\")\n",
    "print(f\"⏭️ Gráficos omitidos (ya existían): {graficos_omitidos}\")\n",
    "print(f\"✅ Tablas nuevas guardadas: {nuevas_tablas}\")\n",
    "print(f\"⏭️ Tablas omitidas (ya existían): {tablas_omitidas}\")\n",
    "print(\"*\" * 50)"
   ]
  }
 ],
 "metadata": {
  "kernelspec": {
   "display_name": "venv",
   "language": "python",
   "name": "python3"
  },
  "language_info": {
   "codemirror_mode": {
    "name": "ipython",
    "version": 3
   },
   "file_extension": ".py",
   "mimetype": "text/x-python",
   "name": "python",
   "nbconvert_exporter": "python",
   "pygments_lexer": "ipython3",
   "version": "3.11.9"
  }
 },
 "nbformat": 4,
 "nbformat_minor": 4
}
